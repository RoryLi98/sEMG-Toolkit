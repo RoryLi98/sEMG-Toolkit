{
 "cells": [
  {
   "cell_type": "markdown",
   "source": [],
   "metadata": {
    "collapsed": false
   },
   "id": "1946bab4f5612d3"
  },
  {
   "cell_type": "code",
   "execution_count": null,
   "id": "initial_id",
   "metadata": {
    "collapsed": true
   },
   "outputs": [],
   "source": [
    "%load_ext autoreload\n",
    "%autoreload 2\n",
    "\n",
    "import logging\n",
    "import os\n",
    "\n",
    "import numpy as np\n",
    "import matplotlib.pyplot as plt\n",
    "\n",
    "import emgkit\n",
    "from load_synthetic_signal import load_synthetic_signal\n",
    "\n",
    "logging.basicConfig(level=logging.INFO)\n",
    "\n",
    "SEED = 42\n",
    "DATA_PATH = os.path.join(\"data\", \"synthetic_signals\")\n",
    "MVC = 10\n",
    "SNR = 10"
   ]
  },
  {
   "cell_type": "code",
   "execution_count": null,
   "outputs": [],
   "source": [
    "samples = load_synthetic_signal(DATA_PATH, mvc=MVC, apply_filter=False)\n",
    "emg, gt_spikes_t, fs = samples[0]\n",
    "\n",
    "emgkit.plot.plot_signal(emg, fs, style=\"compact\", fig_size=(16, 20), resolution=200)"
   ],
   "metadata": {
    "collapsed": false
   },
   "id": "1a17158435872199"
  },
  {
   "cell_type": "code",
   "execution_count": null,
   "outputs": [],
   "source": [
    "emg_rec = np.zeros_like(emg)\n",
    "\n",
    "gt_spikes_dense = emgkit.utils.sparse_to_dense(gt_spikes_t, emg.shape[0] / fs, fs)\n",
    "\n",
    "for i in range(wfs.shape[0]):  # channels\n",
    "    for j in range(wfs.shape[1]):  # MUs\n",
    "        emg_rec[:, i] += np.convolve(gt_spikes_dense[f\"MU{j}\"], wfs[i, j], \"same\")"
   ],
   "metadata": {
    "collapsed": false
   },
   "id": "b7ce3a6248ef139e"
  },
  {
   "cell_type": "code",
   "execution_count": null,
   "outputs": [],
   "source": [
    "np.sqrt(np.mean((emg.to_numpy() - emg_rec) ** 2)), np.mean(\n",
    "    np.abs(emg.to_numpy() - emg_rec)\n",
    ")"
   ],
   "metadata": {
    "collapsed": false
   },
   "id": "62f4ea33df8f44b3"
  }
 ],
 "metadata": {
  "kernelspec": {
   "display_name": "Python 3",
   "language": "python",
   "name": "python3"
  },
  "language_info": {
   "codemirror_mode": {
    "name": "ipython",
    "version": 2
   },
   "file_extension": ".py",
   "mimetype": "text/x-python",
   "name": "python",
   "nbconvert_exporter": "python",
   "pygments_lexer": "ipython2",
   "version": "2.7.6"
  }
 },
 "nbformat": 4,
 "nbformat_minor": 5
}
